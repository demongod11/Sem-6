{
  "nbformat": 4,
  "nbformat_minor": 0,
  "metadata": {
    "colab": {
      "provenance": []
    },
    "kernelspec": {
      "name": "python3",
      "display_name": "Python 3"
    },
    "language_info": {
      "name": "python"
    }
  },
  "cells": [
    {
      "cell_type": "markdown",
      "source": [
        "# **Programming Lab Assignment - 1A**"
      ],
      "metadata": {
        "id": "e1DTpzGVElcF"
      }
    },
    {
      "cell_type": "markdown",
      "source": [
        "### **Complete the Bubble Sort Program**"
      ],
      "metadata": {
        "id": "7D_Ek8afE0R8"
      }
    },
    {
      "cell_type": "markdown",
      "source": [
        "Name--\n",
        "Roll_No--"
      ],
      "metadata": {
        "id": "iQ0X9FMrQmME"
      }
    },
    {
      "cell_type": "code",
      "source": [
        "# Write the path of file uploaded in your drive. \n",
        "with open('/content/drive/MyDrive/CS331 Programming languages/data_file.txt', 'r') as f:\n",
        "    data = f.read()\n",
        "# Conversion of string list data to integer list.\n",
        "raw = [int(i) for i in data.split()]"
      ],
      "metadata": {
        "id": "eFC2M2TrIwQN"
      },
      "execution_count": 23,
      "outputs": []
    },
    {
      "cell_type": "code",
      "source": [
        "# Code to find the maximum 20 values from the file.\n",
        "max_20=[]\n",
        "for i in range(0, 20):\n",
        "    max1 = 0\n",
        "    for j in range(len(raw)):    \n",
        "        if raw[j] > max1:\n",
        "            max1 = raw[j];\n",
        "                 \n",
        "    raw.remove(max1);\n",
        "    max_20.append(max1)\n",
        "         \n",
        "print(max_20)"
      ],
      "metadata": {
        "colab": {
          "base_uri": "https://localhost:8080/"
        },
        "id": "xlZev6DVGpVG",
        "outputId": "ebb20b16-82a2-49d6-9b1b-14ae325ff6e8"
      },
      "execution_count": 24,
      "outputs": [
        {
          "output_type": "stream",
          "name": "stdout",
          "text": [
            "[2334, 2302, 2260, 2257, 2251, 2248, 2244, 2241, 2234, 2234, 2230, 2229, 2224, 2223, 2214, 2209, 2207, 2206, 2204, 2198]\n"
          ]
        }
      ]
    },
    {
      "cell_type": "code",
      "source": [
        "# ........................................................................\n",
        "# ........................................................................\n",
        "# .................Write your BUBBLE SORT CODE here.......................\n",
        "# ........................................................................\n",
        "# ........................................................................"
      ],
      "metadata": {
        "id": "Cf6oxmnMGACU"
      },
      "execution_count": 25,
      "outputs": []
    },
    {
      "cell_type": "code",
      "source": [
        "# ........................................................................\n",
        "# ........................................................................\n",
        "# ........Write the sorted array into a file named \"B_SORT.txt\"...........\n",
        "# ........................................................................\n",
        "# ........................................................................"
      ],
      "metadata": {
        "id": "a0VmgfMGKbxN"
      },
      "execution_count": 26,
      "outputs": []
    }
  ]
}