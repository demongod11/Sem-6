{
  "cells": [
    {
      "cell_type": "markdown",
      "metadata": {
        "id": "e1DTpzGVElcF"
      },
      "source": [
        "# **Programming Lab Assignment - 1A**"
      ]
    },
    {
      "cell_type": "markdown",
      "metadata": {
        "id": "7D_Ek8afE0R8"
      },
      "source": [
        "### **Complete the Bubble Sort Program**"
      ]
    },
    {
      "cell_type": "markdown",
      "metadata": {
        "id": "iQ0X9FMrQmME"
      },
      "source": [
        "Name--\n",
        "Roll_No--"
      ]
    },
    {
      "cell_type": "code",
      "execution_count": 23,
      "metadata": {
        "id": "eFC2M2TrIwQN"
      },
      "outputs": [],
      "source": [
        "# Write the path of file uploaded in your drive. \n",
        "with open('/content/drive/MyDrive/CS331 Programming languages/data_file.txt', 'r') as f:\n",
        "    data = f.read()\n",
        "# Conversion of string list data to integer list.\n",
        "raw = [int(i) for i in data.split()]"
      ]
    },
    {
      "cell_type": "code",
      "execution_count": 24,
      "metadata": {
        "colab": {
          "base_uri": "https://localhost:8080/"
        },
        "id": "xlZev6DVGpVG",
        "outputId": "ebb20b16-82a2-49d6-9b1b-14ae325ff6e8"
      },
      "outputs": [
        {
          "name": "stdout",
          "output_type": "stream",
          "text": [
            "[2334, 2302, 2260, 2257, 2251, 2248, 2244, 2241, 2234, 2234, 2230, 2229, 2224, 2223, 2214, 2209, 2207, 2206, 2204, 2198]\n"
          ]
        }
      ],
      "source": [
        "# Code to find the maximum 20 values from the file.\n",
        "max_20=[]\n",
        "for i in range(0, 20):\n",
        "    max1 = 0\n",
        "    for j in range(len(raw)):    \n",
        "        if raw[j] > max1:\n",
        "            max1 = raw[j];\n",
        "                 \n",
        "    raw.remove(max1);\n",
        "    max_20.append(max1)\n",
        "         \n",
        "print(max_20)"
      ]
    },
    {
      "cell_type": "code",
      "execution_count": 25,
      "metadata": {
        "id": "Cf6oxmnMGACU"
      },
      "outputs": [],
      "source": [
        "# ........................................................................\n",
        "# ........................................................................\n",
        "# .................Write your BUBBLE SORT CODE here.......................\n",
        "# ........................................................................\n",
        "# ........................................................................"
      ]
    },
    {
      "cell_type": "code",
      "execution_count": 26,
      "metadata": {
        "id": "a0VmgfMGKbxN"
      },
      "outputs": [],
      "source": [
        "# ........................................................................\n",
        "# ........................................................................\n",
        "# ........Write the sorted array into a file named \"B_SORT.txt\"...........\n",
        "# ........................................................................\n",
        "# ........................................................................"
      ]
    }
  ],
  "metadata": {
    "colab": {
      "provenance": []
    },
    "kernelspec": {
      "display_name": "Python 3",
      "name": "python3"
    },
    "language_info": {
      "name": "python"
    }
  },
  "nbformat": 4,
  "nbformat_minor": 0
}
